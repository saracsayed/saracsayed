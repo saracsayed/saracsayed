{
  "nbformat": 4,
  "nbformat_minor": 0,
  "metadata": {
    "colab": {
      "name": "SDWIS_Tool.ipynb",
      "provenance": [],
      "collapsed_sections": [],
      "include_colab_link": true
    },
    "kernelspec": {
      "name": "python3",
      "display_name": "Python 3"
    }
  },
  "cells": [
    {
      "cell_type": "markdown",
      "metadata": {
        "id": "view-in-github",
        "colab_type": "text"
      },
      "source": [
        "<a href=\"https://colab.research.google.com/github/saracsayed/saracsayed/blob/main/SDWIS_Tool.ipynb\" target=\"_parent\"><img src=\"https://colab.research.google.com/assets/colab-badge.svg\" alt=\"Open In Colab\"/></a>"
      ]
    },
    {
      "cell_type": "code",
      "metadata": {
        "id": "h1zThgXc3YC5"
      },
      "source": [
        "# In order to run the script you'll need to import the following python packages\n",
        "import pandas as pd\n",
        "import os\n"
      ],
      "execution_count": null,
      "outputs": []
    },
    {
      "cell_type": "markdown",
      "metadata": {
        "id": "AM9EidCwLjKR"
      },
      "source": [
        "**Step 1. Create working directory to provide python access to data files**"
      ]
    },
    {
      "cell_type": "code",
      "metadata": {
        "colab": {
          "base_uri": "https://localhost:8080/"
        },
        "id": "_5EkzUCZ_3ho",
        "outputId": "b3afea73-7ee6-435b-e121-2f1abb4e4024"
      },
      "source": [
        "from google.colab import drive\n",
        "drive.mount('/content/drive')"
      ],
      "execution_count": null,
      "outputs": [
        {
          "output_type": "stream",
          "text": [
            "Mounted at /content/drive\n"
          ],
          "name": "stdout"
        }
      ]
    },
    {
      "cell_type": "code",
      "metadata": {
        "colab": {
          "base_uri": "https://localhost:8080/"
        },
        "id": "WtJxcc5DJv2J",
        "outputId": "b4fc3934-3a8d-40a8-84bf-6b919cf6afb3"
      },
      "source": [
        "# Set path to working directory where data files are stored\n",
        "# This may change based on who's using the script\n",
        "path = r'/content/drive/MyDrive/Colab/Violations'\n",
        "all_files = [os.path.join(path, file) for file in os.listdir(path) if os.path.isfile(os.path.join(path, file))]\n",
        "print(all_files)\n"
      ],
      "execution_count": null,
      "outputs": [
        {
          "output_type": "stream",
          "text": [
            "['/content/drive/MyDrive/Colab/Violations/Violations_1000001_1100101.csv', '/content/drive/MyDrive/Colab/Violations/SDWI_violations_table.csv']\n"
          ],
          "name": "stdout"
        }
      ]
    },
    {
      "cell_type": "markdown",
      "metadata": {
        "id": "drgwbIVQLSOZ"
      },
      "source": [
        "**Step 2. Read in SDWIS Violation CSV into Python**"
      ]
    },
    {
      "cell_type": "code",
      "metadata": {
        "colab": {
          "base_uri": "https://localhost:8080/",
          "height": 275
        },
        "id": "WaDW6gbWHOkP",
        "outputId": "cc489d5a-67bf-42d6-a2d2-2ebe1505531a"
      },
      "source": [
        "# Read in CSV file that contains SDWIS violations\n",
        "sdwis_violations = pd.read_csv('/content/drive/MyDrive/Colab/Violations/SDWI_violations_table.csv')\n",
        "sdwis_violations.head()"
      ],
      "execution_count": null,
      "outputs": [
        {
          "output_type": "stream",
          "text": [
            "/usr/local/lib/python3.6/dist-packages/IPython/core/interactiveshell.py:2718: DtypeWarning: Columns (2,3,13) have mixed types.Specify dtype option on import or set low_memory=False.\n",
            "  interactivity=interactivity, compiler=compiler, result=result)\n"
          ],
          "name": "stderr"
        },
        {
          "output_type": "execute_result",
          "data": {
            "text/html": [
              "<div>\n",
              "<style scoped>\n",
              "    .dataframe tbody tr th:only-of-type {\n",
              "        vertical-align: middle;\n",
              "    }\n",
              "\n",
              "    .dataframe tbody tr th {\n",
              "        vertical-align: top;\n",
              "    }\n",
              "\n",
              "    .dataframe thead th {\n",
              "        text-align: right;\n",
              "    }\n",
              "</style>\n",
              "<table border=\"1\" class=\"dataframe\">\n",
              "  <thead>\n",
              "    <tr style=\"text-align: right;\">\n",
              "      <th></th>\n",
              "      <th>Unnamed: 0</th>\n",
              "      <th>VIOLATION.PWSID</th>\n",
              "      <th>VIOLATION.VIOLATION_ID</th>\n",
              "      <th>VIOLATION.FACILITY_ID</th>\n",
              "      <th>VIOLATION.POPULATION_SERVED_COUNT</th>\n",
              "      <th>VIOLATION.NPM_CANDIDATE</th>\n",
              "      <th>VIOLATION.PWS_ACTIVITY_CODE</th>\n",
              "      <th>VIOLATION.PWS_DEACTIVATION_DATE</th>\n",
              "      <th>VIOLATION.PRIMARY_SOURCE_CODE</th>\n",
              "      <th>VIOLATION.POP_CAT_5_CODE</th>\n",
              "      <th>VIOLATION.PRIMACY_AGENCY_CODE</th>\n",
              "      <th>VIOLATION.EPA_REGION</th>\n",
              "      <th>VIOLATION.PWS_TYPE_CODE</th>\n",
              "      <th>VIOLATION.VIOLATION_CODE</th>\n",
              "      <th>VIOLATION.VIOLATION_CATEGORY_CODE</th>\n",
              "      <th>VIOLATION.IS_HEALTH_BASED_IND</th>\n",
              "      <th>VIOLATION.CONTAMINANT_CODE</th>\n",
              "      <th>VIOLATION.COMPLIANCE_STATUS_CODE</th>\n",
              "      <th>VIOLATION.VIOL_MEASURE</th>\n",
              "      <th>VIOLATION.UNIT_OF_MEASURE</th>\n",
              "      <th>VIOLATION.STATE_MCL</th>\n",
              "      <th>VIOLATION.IS_MAJOR_VIOL_IND</th>\n",
              "      <th>VIOLATION.SEVERITY_IND_CNT</th>\n",
              "      <th>VIOLATION.COMPL_PER_BEGIN_DATE</th>\n",
              "      <th>VIOLATION.COMPL_PER_END_DATE</th>\n",
              "      <th>VIOLATION.LATEST_ENFORCEMENT_ID</th>\n",
              "      <th>VIOLATION.RTC_ENFORCEMENT_ID</th>\n",
              "      <th>VIOLATION.RTC_DATE</th>\n",
              "      <th>VIOLATION.PUBLIC_NOTIFICATION_TIER</th>\n",
              "      <th>VIOLATION.ORIGINATOR_CODE</th>\n",
              "      <th>VIOLATION.SAMPLE_RESULT_ID</th>\n",
              "      <th>VIOLATION.CORRECTIVE_ACTION_ID</th>\n",
              "      <th>VIOLATION.RULE_CODE</th>\n",
              "      <th>VIOLATION.RULE_GROUP_CODE</th>\n",
              "      <th>VIOLATION.RULE_FAMILY_CODE</th>\n",
              "    </tr>\n",
              "  </thead>\n",
              "  <tbody>\n",
              "    <tr>\n",
              "      <th>0</th>\n",
              "      <td>0</td>\n",
              "      <td>WI2300382</td>\n",
              "      <td>1200070</td>\n",
              "      <td>NaN</td>\n",
              "      <td>59</td>\n",
              "      <td>N</td>\n",
              "      <td>A</td>\n",
              "      <td>NaN</td>\n",
              "      <td>GW</td>\n",
              "      <td>1</td>\n",
              "      <td>WI</td>\n",
              "      <td>5</td>\n",
              "      <td>NTNCWS</td>\n",
              "      <td>66</td>\n",
              "      <td>MR</td>\n",
              "      <td>N</td>\n",
              "      <td>5000.0</td>\n",
              "      <td>R</td>\n",
              "      <td>NaN</td>\n",
              "      <td>NaN</td>\n",
              "      <td>NaN</td>\n",
              "      <td>NaN</td>\n",
              "      <td>NaN</td>\n",
              "      <td>1-Jan-12</td>\n",
              "      <td>NaN</td>\n",
              "      <td>1200084</td>\n",
              "      <td>1200084</td>\n",
              "      <td>29-Feb-12</td>\n",
              "      <td>3</td>\n",
              "      <td>S</td>\n",
              "      <td>NaN</td>\n",
              "      <td>NaN</td>\n",
              "      <td>350</td>\n",
              "      <td>300</td>\n",
              "      <td>350</td>\n",
              "    </tr>\n",
              "    <tr>\n",
              "      <th>1</th>\n",
              "      <td>1</td>\n",
              "      <td>WI2300905</td>\n",
              "      <td>1300117</td>\n",
              "      <td>1</td>\n",
              "      <td>8</td>\n",
              "      <td>N</td>\n",
              "      <td>I</td>\n",
              "      <td>1-Jul-16</td>\n",
              "      <td>GW</td>\n",
              "      <td>1</td>\n",
              "      <td>WI</td>\n",
              "      <td>5</td>\n",
              "      <td>CWS</td>\n",
              "      <td>3</td>\n",
              "      <td>MR</td>\n",
              "      <td>N</td>\n",
              "      <td>2985.0</td>\n",
              "      <td>R</td>\n",
              "      <td>NaN</td>\n",
              "      <td>NaN</td>\n",
              "      <td>NaN</td>\n",
              "      <td>Y</td>\n",
              "      <td>NaN</td>\n",
              "      <td>1-Jan-12</td>\n",
              "      <td>31-Dec-12</td>\n",
              "      <td>1500230</td>\n",
              "      <td>1400175</td>\n",
              "      <td>5-Sep-13</td>\n",
              "      <td>3</td>\n",
              "      <td>S</td>\n",
              "      <td>NaN</td>\n",
              "      <td>NaN</td>\n",
              "      <td>310</td>\n",
              "      <td>300</td>\n",
              "      <td>310</td>\n",
              "    </tr>\n",
              "    <tr>\n",
              "      <th>2</th>\n",
              "      <td>2</td>\n",
              "      <td>WI4360436</td>\n",
              "      <td>1200004</td>\n",
              "      <td>NaN</td>\n",
              "      <td>11232</td>\n",
              "      <td>N</td>\n",
              "      <td>A</td>\n",
              "      <td>NaN</td>\n",
              "      <td>SW</td>\n",
              "      <td>4</td>\n",
              "      <td>WI</td>\n",
              "      <td>5</td>\n",
              "      <td>CWS</td>\n",
              "      <td>66</td>\n",
              "      <td>MR</td>\n",
              "      <td>N</td>\n",
              "      <td>5000.0</td>\n",
              "      <td>R</td>\n",
              "      <td>NaN</td>\n",
              "      <td>NaN</td>\n",
              "      <td>NaN</td>\n",
              "      <td>NaN</td>\n",
              "      <td>NaN</td>\n",
              "      <td>1-Jan-12</td>\n",
              "      <td>NaN</td>\n",
              "      <td>1400012</td>\n",
              "      <td>1400012</td>\n",
              "      <td>21-Sep-12</td>\n",
              "      <td>3</td>\n",
              "      <td>S</td>\n",
              "      <td>NaN</td>\n",
              "      <td>NaN</td>\n",
              "      <td>350</td>\n",
              "      <td>300</td>\n",
              "      <td>350</td>\n",
              "    </tr>\n",
              "    <tr>\n",
              "      <th>3</th>\n",
              "      <td>3</td>\n",
              "      <td>WI6091003</td>\n",
              "      <td>1300017</td>\n",
              "      <td>1</td>\n",
              "      <td>50</td>\n",
              "      <td>N</td>\n",
              "      <td>I</td>\n",
              "      <td>7-Mar-13</td>\n",
              "      <td>GW</td>\n",
              "      <td>1</td>\n",
              "      <td>WI</td>\n",
              "      <td>5</td>\n",
              "      <td>TNCWS</td>\n",
              "      <td>2</td>\n",
              "      <td>MCL</td>\n",
              "      <td>Y</td>\n",
              "      <td>1040.0</td>\n",
              "      <td>R</td>\n",
              "      <td>23.95</td>\n",
              "      <td>MG/L</td>\n",
              "      <td>20.5</td>\n",
              "      <td>NaN</td>\n",
              "      <td>NaN</td>\n",
              "      <td>1-Jan-12</td>\n",
              "      <td>31-Dec-12</td>\n",
              "      <td>1300021</td>\n",
              "      <td>1300021</td>\n",
              "      <td>7-Mar-13</td>\n",
              "      <td>1</td>\n",
              "      <td>S</td>\n",
              "      <td>NaN</td>\n",
              "      <td>NaN</td>\n",
              "      <td>331</td>\n",
              "      <td>300</td>\n",
              "      <td>330</td>\n",
              "    </tr>\n",
              "    <tr>\n",
              "      <th>4</th>\n",
              "      <td>4</td>\n",
              "      <td>WI6091077</td>\n",
              "      <td>1300011</td>\n",
              "      <td>1</td>\n",
              "      <td>500</td>\n",
              "      <td>N</td>\n",
              "      <td>A</td>\n",
              "      <td>NaN</td>\n",
              "      <td>GW</td>\n",
              "      <td>1</td>\n",
              "      <td>WI</td>\n",
              "      <td>5</td>\n",
              "      <td>TNCWS</td>\n",
              "      <td>2</td>\n",
              "      <td>MCL</td>\n",
              "      <td>Y</td>\n",
              "      <td>1040.0</td>\n",
              "      <td>R</td>\n",
              "      <td>24.65</td>\n",
              "      <td>MG/L</td>\n",
              "      <td>20.5</td>\n",
              "      <td>NaN</td>\n",
              "      <td>NaN</td>\n",
              "      <td>1-Jan-12</td>\n",
              "      <td>31-Dec-12</td>\n",
              "      <td>1700055</td>\n",
              "      <td>1700055</td>\n",
              "      <td>16-Mar-17</td>\n",
              "      <td>1</td>\n",
              "      <td>S</td>\n",
              "      <td>NaN</td>\n",
              "      <td>NaN</td>\n",
              "      <td>331</td>\n",
              "      <td>300</td>\n",
              "      <td>330</td>\n",
              "    </tr>\n",
              "  </tbody>\n",
              "</table>\n",
              "</div>"
            ],
            "text/plain": [
              "   Unnamed: 0  ... VIOLATION.RULE_FAMILY_CODE\n",
              "0           0  ...                        350\n",
              "1           1  ...                        310\n",
              "2           2  ...                        350\n",
              "3           3  ...                        330\n",
              "4           4  ...                        330\n",
              "\n",
              "[5 rows x 35 columns]"
            ]
          },
          "metadata": {
            "tags": []
          },
          "execution_count": 6
        }
      ]
    },
    {
      "cell_type": "markdown",
      "metadata": {
        "id": "VnbQoryXJjqf"
      },
      "source": [
        "**Step 3. Importing new SDWIS violations**"
      ]
    },
    {
      "cell_type": "code",
      "metadata": {
        "id": "SFL22FtWJoer"
      },
      "source": [
        "# Use this api link to grab new violation data from EPA api:\n",
        "# https://data.epa.gov/efservice/VIOLATION/COMPL_PER_BEGIN_DATE/%3E/31-DEC-12/ROWS/0:100000/EXCEL\n",
        "# This link will generate a CSV table(s) that will be imported into this script\n",
        "# Note: The only changes will occur in this segment: /0:100000/ "
      ],
      "execution_count": null,
      "outputs": []
    },
    {
      "cell_type": "markdown",
      "metadata": {
        "id": "pr7Q1JZ6KSu4"
      },
      "source": [
        "Currently the last API record is at 1,100,101 so future updates will start with this number. \n",
        "Note: Only 100k records can be downloaded at once from the API"
      ]
    },
    {
      "cell_type": "code",
      "metadata": {
        "id": "RoR_ofaVKyMc"
      },
      "source": [
        "# Read in the csv of new downloaded data\n",
        "violation_update = pd.read_csv('/content/drive/MyDrive/Colab/Violations/SDWI_violations_table.csv')"
      ],
      "execution_count": null,
      "outputs": []
    },
    {
      "cell_type": "code",
      "metadata": {
        "colab": {
          "base_uri": "https://localhost:8080/"
        },
        "id": "v3XIbkMhD1Mn",
        "outputId": "c1c6534c-481b-4b0e-b76b-37a3349bf8a2"
      },
      "source": [
        "# Join new data with SDWIS master table\n",
        "li = []\n",
        "#print(len(all_files))\n",
        "for filename in all_files:\n",
        "    df = pd.read_csv(filename, index_col=None, header=0)\n",
        "    li.append(df)\n",
        "frame = pd.concat(li, axis=0, ignore_index=True)\n",
        "\n"
      ],
      "execution_count": null,
      "outputs": [
        {
          "output_type": "stream",
          "text": [
            "/usr/local/lib/python3.6/dist-packages/IPython/core/interactiveshell.py:2718: DtypeWarning: Columns (2,12) have mixed types.Specify dtype option on import or set low_memory=False.\n",
            "  interactivity=interactivity, compiler=compiler, result=result)\n",
            "/usr/local/lib/python3.6/dist-packages/IPython/core/interactiveshell.py:2718: DtypeWarning: Columns (2,3,13) have mixed types.Specify dtype option on import or set low_memory=False.\n",
            "  interactivity=interactivity, compiler=compiler, result=result)\n"
          ],
          "name": "stderr"
        }
      ]
    },
    {
      "cell_type": "markdown",
      "metadata": {
        "id": "IQ60ppD1C1TM"
      },
      "source": [
        "**Step 4. Export newly updated CSV**\n"
      ]
    },
    {
      "cell_type": "code",
      "metadata": {
        "id": "MF4SnSZt-udl"
      },
      "source": [
        "#Export CSV file to folder\n",
        "frame.to_csv('SDWI_violations_table.csv')"
      ],
      "execution_count": null,
      "outputs": []
    }
  ]
}