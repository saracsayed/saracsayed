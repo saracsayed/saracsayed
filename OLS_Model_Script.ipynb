{
  "nbformat": 4,
  "nbformat_minor": 0,
  "metadata": {
    "colab": {
      "name": "OLS Model Script",
      "provenance": [],
      "authorship_tag": "ABX9TyN/JC8cssy1MO5oEzRLmegD",
      "include_colab_link": true
    },
    "kernelspec": {
      "name": "python3",
      "display_name": "Python 3"
    }
  },
  "cells": [
    {
      "cell_type": "markdown",
      "metadata": {
        "id": "view-in-github",
        "colab_type": "text"
      },
      "source": [
        "<a href=\"https://colab.research.google.com/github/saracsayed/saracsayed/blob/main/OLS_Model_Script.ipynb\" target=\"_parent\"><img src=\"https://colab.research.google.com/assets/colab-badge.svg\" alt=\"Open In Colab\"/></a>"
      ]
    },
    {
      "cell_type": "markdown",
      "metadata": {
        "id": "U9eh7kNETyQD"
      },
      "source": [
        "OLS Model Script"
      ]
    },
    {
      "cell_type": "code",
      "metadata": {
        "id": "qQuodW3GTxox",
        "colab": {
          "base_uri": "https://localhost:8080/"
        },
        "outputId": "f57487c2-7614-450a-c0a7-fe7cc03346ec"
      },
      "source": [
        "# Import packages necessary to run script\n",
        "import pandas as pd\n",
        "import seaborn as sn #for correlation matrix\n",
        "import matplotlib.pyplot as plt\n",
        "plt.style.use('ggplot')\n",
        "import numpy as np\n",
        "import scipy as sp\n",
        "from scipy import stats\n",
        "import statsmodels.api as sm\n",
        "import statsmodels.formula.api as smf\n",
        "from pandas import DataFrame\n",
        "from statsmodels.formula.api import ols"
      ],
      "execution_count": null,
      "outputs": [
        {
          "output_type": "stream",
          "text": [
            "/usr/local/lib/python3.6/dist-packages/statsmodels/tools/_testing.py:19: FutureWarning: pandas.util.testing is deprecated. Use the functions in the public API at pandas.testing instead.\n",
            "  import pandas.util.testing as tm\n"
          ],
          "name": "stderr"
        }
      ]
    },
    {
      "cell_type": "code",
      "metadata": {
        "colab": {
          "base_uri": "https://localhost:8080/"
        },
        "id": "AmoDZch4UB1v",
        "outputId": "557546c8-0f0f-44b2-db97-1254474cdcf4"
      },
      "source": [
        "# Set working directory, we will need to be able to make this user friendly later\n",
        "from google.colab import drive\n",
        "drive.mount('/content/drive')"
      ],
      "execution_count": null,
      "outputs": [
        {
          "output_type": "stream",
          "text": [
            "Mounted at /content/drive\n"
          ],
          "name": "stdout"
        }
      ]
    },
    {
      "cell_type": "code",
      "metadata": {
        "colab": {
          "base_uri": "https://localhost:8080/",
          "height": 445
        },
        "id": "ZlmDGT8MUqjj",
        "outputId": "81f752d4-c1d1-4349-c666-14c7d9ffea01"
      },
      "source": [
        "# Import block scores original data to see R^2 value\n",
        "block_scores_org = pd.read_csv('/content/drive/MyDrive/MP/Control_Variable_Table.csv')\n",
        "block_scores_org.head()"
      ],
      "execution_count": null,
      "outputs": [
        {
          "output_type": "execute_result",
          "data": {
            "text/html": [
              "<div>\n",
              "<style scoped>\n",
              "    .dataframe tbody tr th:only-of-type {\n",
              "        vertical-align: middle;\n",
              "    }\n",
              "\n",
              "    .dataframe tbody tr th {\n",
              "        vertical-align: top;\n",
              "    }\n",
              "\n",
              "    .dataframe thead th {\n",
              "        text-align: right;\n",
              "    }\n",
              "</style>\n",
              "<table border=\"1\" class=\"dataframe\">\n",
              "  <thead>\n",
              "    <tr style=\"text-align: right;\">\n",
              "      <th></th>\n",
              "      <th>Unnamed: 0</th>\n",
              "      <th>Unnamed: 0.1</th>\n",
              "      <th>GEOID</th>\n",
              "      <th>pwsid</th>\n",
              "      <th>utility_name</th>\n",
              "      <th>totalpop</th>\n",
              "      <th>totalhh</th>\n",
              "      <th>perArea</th>\n",
              "      <th>medianIncome</th>\n",
              "      <th>Income20</th>\n",
              "      <th>nhhSurve200v</th>\n",
              "      <th>nhhPov200</th>\n",
              "      <th>hhSize</th>\n",
              "      <th>HBI</th>\n",
              "      <th>PPI</th>\n",
              "      <th>burden</th>\n",
              "      <th>EPA</th>\n",
              "      <th>method</th>\n",
              "      <th>minLaborHrsMin</th>\n",
              "      <th>minLaborHrsMax</th>\n",
              "      <th>WARI</th>\n",
              "      <th>LaborHrs</th>\n",
              "      <th>Total</th>\n",
              "      <th>Urban</th>\n",
              "      <th>Inside UA</th>\n",
              "      <th>Inside UC</th>\n",
              "      <th>Rural</th>\n",
              "      <th>County_x</th>\n",
              "      <th>Total Pop</th>\n",
              "      <th>White</th>\n",
              "      <th>Black</th>\n",
              "      <th>Native</th>\n",
              "      <th>Asian</th>\n",
              "      <th>County_y</th>\n",
              "      <th>Total H</th>\n",
              "      <th>Total NH</th>\n",
              "      <th>NH White</th>\n",
              "      <th>NH Black</th>\n",
              "      <th>NH Native</th>\n",
              "      <th>NH Asian</th>\n",
              "      <th>NH Pacific Islander</th>\n",
              "      <th>NH Other</th>\n",
              "      <th>NH Two or more</th>\n",
              "      <th>TotalH</th>\n",
              "      <th>Perc_White</th>\n",
              "      <th>Perc_Black</th>\n",
              "      <th>Perc_Native</th>\n",
              "      <th>Perc_Asian</th>\n",
              "      <th>Perc_Pacific_Islander</th>\n",
              "      <th>Perc_Other</th>\n",
              "      <th>Perc_Multi</th>\n",
              "      <th>Perc_Hispanic</th>\n",
              "      <th>Perc_Urban</th>\n",
              "      <th>Perc_Rural</th>\n",
              "      <th>PWSID</th>\n",
              "      <th>PWS Name</th>\n",
              "      <th>EPA Region</th>\n",
              "      <th>Primacy Agey</th>\n",
              "      <th>PWS Type</th>\n",
              "      <th>Population_Served_Count</th>\n",
              "      <th>Service_Connections_Count</th>\n",
              "    </tr>\n",
              "  </thead>\n",
              "  <tbody>\n",
              "    <tr>\n",
              "      <th>0</th>\n",
              "      <td>0</td>\n",
              "      <td>0</td>\n",
              "      <td>3.720000e+11</td>\n",
              "      <td>100010</td>\n",
              "      <td>Burnsville</td>\n",
              "      <td>862</td>\n",
              "      <td>361</td>\n",
              "      <td>6.01</td>\n",
              "      <td>59844.0</td>\n",
              "      <td>35235.0</td>\n",
              "      <td>4534</td>\n",
              "      <td>1917</td>\n",
              "      <td>2.39</td>\n",
              "      <td>3.93</td>\n",
              "      <td>42.28</td>\n",
              "      <td>Moderate-High</td>\n",
              "      <td>2.31</td>\n",
              "      <td>Method 1</td>\n",
              "      <td>7.97</td>\n",
              "      <td>15.95</td>\n",
              "      <td>4.49</td>\n",
              "      <td>11.96</td>\n",
              "      <td>725</td>\n",
              "      <td>0</td>\n",
              "      <td>0</td>\n",
              "      <td>0</td>\n",
              "      <td>725</td>\n",
              "      <td>Yancey County</td>\n",
              "      <td>862</td>\n",
              "      <td>862</td>\n",
              "      <td>0</td>\n",
              "      <td>0</td>\n",
              "      <td>0</td>\n",
              "      <td>Yancey County</td>\n",
              "      <td>862</td>\n",
              "      <td>862</td>\n",
              "      <td>862</td>\n",
              "      <td>0</td>\n",
              "      <td>0</td>\n",
              "      <td>0</td>\n",
              "      <td>0</td>\n",
              "      <td>0</td>\n",
              "      <td>0</td>\n",
              "      <td>0</td>\n",
              "      <td>100.000000</td>\n",
              "      <td>0.000000</td>\n",
              "      <td>0.000000</td>\n",
              "      <td>0.000000</td>\n",
              "      <td>0.000000</td>\n",
              "      <td>0.0</td>\n",
              "      <td>0.000000</td>\n",
              "      <td>0.000000</td>\n",
              "      <td>0.0</td>\n",
              "      <td>100.0</td>\n",
              "      <td>100010</td>\n",
              "      <td>BURNSVILLE, TOWN OF</td>\n",
              "      <td>Region 4</td>\n",
              "      <td>North Carolina</td>\n",
              "      <td>Community water system</td>\n",
              "      <td>3988</td>\n",
              "      <td>1570</td>\n",
              "    </tr>\n",
              "    <tr>\n",
              "      <th>1</th>\n",
              "      <td>1</td>\n",
              "      <td>1</td>\n",
              "      <td>3.720000e+11</td>\n",
              "      <td>100010</td>\n",
              "      <td>Burnsville</td>\n",
              "      <td>1281</td>\n",
              "      <td>608</td>\n",
              "      <td>21.17</td>\n",
              "      <td>26894.0</td>\n",
              "      <td>11783.5</td>\n",
              "      <td>4534</td>\n",
              "      <td>1917</td>\n",
              "      <td>2.11</td>\n",
              "      <td>9.05</td>\n",
              "      <td>42.28</td>\n",
              "      <td>High</td>\n",
              "      <td>3.92</td>\n",
              "      <td>Method 1</td>\n",
              "      <td>7.97</td>\n",
              "      <td>15.95</td>\n",
              "      <td>4.49</td>\n",
              "      <td>11.96</td>\n",
              "      <td>696</td>\n",
              "      <td>0</td>\n",
              "      <td>0</td>\n",
              "      <td>0</td>\n",
              "      <td>696</td>\n",
              "      <td>Yancey County</td>\n",
              "      <td>1281</td>\n",
              "      <td>1184</td>\n",
              "      <td>27</td>\n",
              "      <td>4</td>\n",
              "      <td>0</td>\n",
              "      <td>Yancey County</td>\n",
              "      <td>1281</td>\n",
              "      <td>1105</td>\n",
              "      <td>1035</td>\n",
              "      <td>27</td>\n",
              "      <td>4</td>\n",
              "      <td>0</td>\n",
              "      <td>6</td>\n",
              "      <td>0</td>\n",
              "      <td>33</td>\n",
              "      <td>176</td>\n",
              "      <td>80.796253</td>\n",
              "      <td>2.107728</td>\n",
              "      <td>0.312256</td>\n",
              "      <td>0.000000</td>\n",
              "      <td>0.468384</td>\n",
              "      <td>0.0</td>\n",
              "      <td>2.576112</td>\n",
              "      <td>13.739266</td>\n",
              "      <td>0.0</td>\n",
              "      <td>100.0</td>\n",
              "      <td>100010</td>\n",
              "      <td>BURNSVILLE, TOWN OF</td>\n",
              "      <td>Region 4</td>\n",
              "      <td>North Carolina</td>\n",
              "      <td>Community water system</td>\n",
              "      <td>3988</td>\n",
              "      <td>1570</td>\n",
              "    </tr>\n",
              "    <tr>\n",
              "      <th>2</th>\n",
              "      <td>2</td>\n",
              "      <td>2</td>\n",
              "      <td>3.720000e+11</td>\n",
              "      <td>100010</td>\n",
              "      <td>Burnsville</td>\n",
              "      <td>1643</td>\n",
              "      <td>613</td>\n",
              "      <td>22.65</td>\n",
              "      <td>43359.0</td>\n",
              "      <td>14288.0</td>\n",
              "      <td>4534</td>\n",
              "      <td>1917</td>\n",
              "      <td>2.68</td>\n",
              "      <td>8.35</td>\n",
              "      <td>42.28</td>\n",
              "      <td>High</td>\n",
              "      <td>2.75</td>\n",
              "      <td>Method 1</td>\n",
              "      <td>7.97</td>\n",
              "      <td>15.95</td>\n",
              "      <td>4.49</td>\n",
              "      <td>11.96</td>\n",
              "      <td>861</td>\n",
              "      <td>0</td>\n",
              "      <td>0</td>\n",
              "      <td>0</td>\n",
              "      <td>861</td>\n",
              "      <td>Yancey County</td>\n",
              "      <td>1643</td>\n",
              "      <td>1595</td>\n",
              "      <td>17</td>\n",
              "      <td>3</td>\n",
              "      <td>0</td>\n",
              "      <td>Yancey County</td>\n",
              "      <td>1643</td>\n",
              "      <td>1517</td>\n",
              "      <td>1478</td>\n",
              "      <td>17</td>\n",
              "      <td>3</td>\n",
              "      <td>0</td>\n",
              "      <td>0</td>\n",
              "      <td>0</td>\n",
              "      <td>19</td>\n",
              "      <td>126</td>\n",
              "      <td>89.957395</td>\n",
              "      <td>1.034693</td>\n",
              "      <td>0.182593</td>\n",
              "      <td>0.000000</td>\n",
              "      <td>0.000000</td>\n",
              "      <td>0.0</td>\n",
              "      <td>1.156421</td>\n",
              "      <td>7.668898</td>\n",
              "      <td>0.0</td>\n",
              "      <td>100.0</td>\n",
              "      <td>100010</td>\n",
              "      <td>BURNSVILLE, TOWN OF</td>\n",
              "      <td>Region 4</td>\n",
              "      <td>North Carolina</td>\n",
              "      <td>Community water system</td>\n",
              "      <td>3988</td>\n",
              "      <td>1570</td>\n",
              "    </tr>\n",
              "    <tr>\n",
              "      <th>3</th>\n",
              "      <td>3</td>\n",
              "      <td>3</td>\n",
              "      <td>3.720000e+11</td>\n",
              "      <td>100010</td>\n",
              "      <td>Burnsville</td>\n",
              "      <td>1721</td>\n",
              "      <td>751</td>\n",
              "      <td>10.13</td>\n",
              "      <td>33317.0</td>\n",
              "      <td>15494.0</td>\n",
              "      <td>3180</td>\n",
              "      <td>1292</td>\n",
              "      <td>2.29</td>\n",
              "      <td>8.16</td>\n",
              "      <td>40.63</td>\n",
              "      <td>High</td>\n",
              "      <td>3.78</td>\n",
              "      <td>Method 1</td>\n",
              "      <td>7.97</td>\n",
              "      <td>15.95</td>\n",
              "      <td>4.49</td>\n",
              "      <td>11.96</td>\n",
              "      <td>1411</td>\n",
              "      <td>0</td>\n",
              "      <td>0</td>\n",
              "      <td>0</td>\n",
              "      <td>1411</td>\n",
              "      <td>Yancey County</td>\n",
              "      <td>1721</td>\n",
              "      <td>1615</td>\n",
              "      <td>60</td>\n",
              "      <td>12</td>\n",
              "      <td>2</td>\n",
              "      <td>Yancey County</td>\n",
              "      <td>1721</td>\n",
              "      <td>1692</td>\n",
              "      <td>1586</td>\n",
              "      <td>60</td>\n",
              "      <td>12</td>\n",
              "      <td>2</td>\n",
              "      <td>0</td>\n",
              "      <td>0</td>\n",
              "      <td>32</td>\n",
              "      <td>29</td>\n",
              "      <td>92.155723</td>\n",
              "      <td>3.486345</td>\n",
              "      <td>0.697269</td>\n",
              "      <td>0.116212</td>\n",
              "      <td>0.000000</td>\n",
              "      <td>0.0</td>\n",
              "      <td>1.859384</td>\n",
              "      <td>1.685067</td>\n",
              "      <td>0.0</td>\n",
              "      <td>100.0</td>\n",
              "      <td>100010</td>\n",
              "      <td>BURNSVILLE, TOWN OF</td>\n",
              "      <td>Region 4</td>\n",
              "      <td>North Carolina</td>\n",
              "      <td>Community water system</td>\n",
              "      <td>3988</td>\n",
              "      <td>1570</td>\n",
              "    </tr>\n",
              "    <tr>\n",
              "      <th>4</th>\n",
              "      <td>4</td>\n",
              "      <td>4</td>\n",
              "      <td>3.720000e+11</td>\n",
              "      <td>100010</td>\n",
              "      <td>Burnsville</td>\n",
              "      <td>1459</td>\n",
              "      <td>662</td>\n",
              "      <td>2.91</td>\n",
              "      <td>38800.0</td>\n",
              "      <td>23710.0</td>\n",
              "      <td>3180</td>\n",
              "      <td>1292</td>\n",
              "      <td>2.20</td>\n",
              "      <td>5.91</td>\n",
              "      <td>40.63</td>\n",
              "      <td>Moderate-High</td>\n",
              "      <td>3.62</td>\n",
              "      <td>Method 1</td>\n",
              "      <td>7.97</td>\n",
              "      <td>15.95</td>\n",
              "      <td>4.49</td>\n",
              "      <td>11.96</td>\n",
              "      <td>879</td>\n",
              "      <td>0</td>\n",
              "      <td>0</td>\n",
              "      <td>0</td>\n",
              "      <td>879</td>\n",
              "      <td>Yancey County</td>\n",
              "      <td>1459</td>\n",
              "      <td>1352</td>\n",
              "      <td>0</td>\n",
              "      <td>0</td>\n",
              "      <td>3</td>\n",
              "      <td>Yancey County</td>\n",
              "      <td>1459</td>\n",
              "      <td>1299</td>\n",
              "      <td>1296</td>\n",
              "      <td>0</td>\n",
              "      <td>0</td>\n",
              "      <td>3</td>\n",
              "      <td>0</td>\n",
              "      <td>0</td>\n",
              "      <td>0</td>\n",
              "      <td>160</td>\n",
              "      <td>88.827964</td>\n",
              "      <td>0.000000</td>\n",
              "      <td>0.000000</td>\n",
              "      <td>0.205620</td>\n",
              "      <td>0.000000</td>\n",
              "      <td>0.0</td>\n",
              "      <td>0.000000</td>\n",
              "      <td>10.966415</td>\n",
              "      <td>0.0</td>\n",
              "      <td>100.0</td>\n",
              "      <td>100010</td>\n",
              "      <td>BURNSVILLE, TOWN OF</td>\n",
              "      <td>Region 4</td>\n",
              "      <td>North Carolina</td>\n",
              "      <td>Community water system</td>\n",
              "      <td>3988</td>\n",
              "      <td>1570</td>\n",
              "    </tr>\n",
              "  </tbody>\n",
              "</table>\n",
              "</div>"
            ],
            "text/plain": [
              "   Unnamed: 0  Unnamed: 0.1  ...  Population_Served_Count  Service_Connections_Count\n",
              "0           0             0  ...                     3988                       1570\n",
              "1           1             1  ...                     3988                       1570\n",
              "2           2             2  ...                     3988                       1570\n",
              "3           3             3  ...                     3988                       1570\n",
              "4           4             4  ...                     3988                       1570\n",
              "\n",
              "[5 rows x 61 columns]"
            ]
          },
          "metadata": {
            "tags": []
          },
          "execution_count": 4
        }
      ]
    },
    {
      "cell_type": "markdown",
      "metadata": {
        "id": "7g1i8V4lSjGu"
      },
      "source": [
        "Correlation Matrix of Selected Variables"
      ]
    },
    {
      "cell_type": "code",
      "metadata": {
        "colab": {
          "base_uri": "https://localhost:8080/",
          "height": 249
        },
        "id": "kJGsuVPmUH3v",
        "outputId": "10f08d4b-56b5-4dbb-d4ee-dff052f588e6"
      },
      "source": [
        "Regression_Model = DataFrame(block_scores_org,columns=['HBI','Perc_White','Perc_Black','Perc_Native',\n",
        "                                                            'Perc_Asian', 'Perc_Other', 'Perc_Multi', \n",
        "                                                'Perc_Hispanic', 'Perc_Pacific_Islander', 'PPI', \n",
        "                                                'Population_Served_Count', 'Service_Connections_Count',\n",
        "                                                'Perc_Urban', 'Perc_Rural', 'LaborHrs']) \n",
        "plt.figure(figsize=(15, 15))\n",
        "corrMatrix = Reg_Model.corr()\n",
        "sn.heatmap(corrMatrix, annot=True)\n",
        "plt.show()"
      ],
      "execution_count": null,
      "outputs": [
        {
          "output_type": "error",
          "ename": "NameError",
          "evalue": "ignored",
          "traceback": [
            "\u001b[0;31m---------------------------------------------------------------------------\u001b[0m",
            "\u001b[0;31mNameError\u001b[0m                                 Traceback (most recent call last)",
            "\u001b[0;32m<ipython-input-5-420bbf7939e3>\u001b[0m in \u001b[0;36m<module>\u001b[0;34m()\u001b[0m\n\u001b[1;32m      5\u001b[0m                                                 'Perc_Urban', 'Perc_Rural', 'LaborHrs']) \n\u001b[1;32m      6\u001b[0m \u001b[0mplt\u001b[0m\u001b[0;34m.\u001b[0m\u001b[0mfigure\u001b[0m\u001b[0;34m(\u001b[0m\u001b[0mfigsize\u001b[0m\u001b[0;34m=\u001b[0m\u001b[0;34m(\u001b[0m\u001b[0;36m15\u001b[0m\u001b[0;34m,\u001b[0m \u001b[0;36m15\u001b[0m\u001b[0;34m)\u001b[0m\u001b[0;34m)\u001b[0m\u001b[0;34m\u001b[0m\u001b[0;34m\u001b[0m\u001b[0m\n\u001b[0;32m----> 7\u001b[0;31m \u001b[0mcorrMatrix\u001b[0m \u001b[0;34m=\u001b[0m \u001b[0mReg_Model\u001b[0m\u001b[0;34m.\u001b[0m\u001b[0mcorr\u001b[0m\u001b[0;34m(\u001b[0m\u001b[0;34m)\u001b[0m\u001b[0;34m\u001b[0m\u001b[0;34m\u001b[0m\u001b[0m\n\u001b[0m\u001b[1;32m      8\u001b[0m \u001b[0msn\u001b[0m\u001b[0;34m.\u001b[0m\u001b[0mheatmap\u001b[0m\u001b[0;34m(\u001b[0m\u001b[0mcorrMatrix\u001b[0m\u001b[0;34m,\u001b[0m \u001b[0mannot\u001b[0m\u001b[0;34m=\u001b[0m\u001b[0;32mTrue\u001b[0m\u001b[0;34m)\u001b[0m\u001b[0;34m\u001b[0m\u001b[0;34m\u001b[0m\u001b[0m\n\u001b[1;32m      9\u001b[0m \u001b[0mplt\u001b[0m\u001b[0;34m.\u001b[0m\u001b[0mshow\u001b[0m\u001b[0;34m(\u001b[0m\u001b[0;34m)\u001b[0m\u001b[0;34m\u001b[0m\u001b[0;34m\u001b[0m\u001b[0m\n",
            "\u001b[0;31mNameError\u001b[0m: name 'Reg_Model' is not defined"
          ]
        },
        {
          "output_type": "display_data",
          "data": {
            "text/plain": [
              "<Figure size 1080x1080 with 0 Axes>"
            ]
          },
          "metadata": {
            "tags": []
          }
        }
      ]
    },
    {
      "cell_type": "markdown",
      "metadata": {
        "id": "fBboLq5nFyn5"
      },
      "source": [
        "# Base Model"
      ]
    },
    {
      "cell_type": "code",
      "metadata": {
        "id": "66H5NPAhUQP7"
      },
      "source": [
        "# BasicRegression model (NH White Omitted)\n",
        "x = block_scores_org[['Perc_Hispanic', 'Perc_Black', 'Perc_Native', 'Perc_Asian',\n",
        "               'Perc_Other', 'Perc_Multi', 'Perc_Pacific_Islander']]\n",
        "y = block_scores_org['HBI']\n",
        "model = sm.OLS(y,x, missing = 'drop',)\n",
        "results = model.fit(cov_type='cluster',\n",
        "                    cov_kwds={'groups': block_scores_org[['HBI','Perc_Hispanic', 'Perc_Black', 'Perc_Native', 'Perc_Asian',\n",
        "                    'Perc_Other', 'Perc_Multi', 'Perc_Pacific_Islander','utility_name']].dropna()['utility_name']})\n",
        "print(results.summary())"
      ],
      "execution_count": null,
      "outputs": []
    },
    {
      "cell_type": "markdown",
      "metadata": {
        "id": "-cmF3s-eF6rn"
      },
      "source": [
        "1. Model with PPI Control"
      ]
    },
    {
      "cell_type": "code",
      "metadata": {
        "colab": {
          "base_uri": "https://localhost:8080/"
        },
        "id": "rUB8HLI7U_oH",
        "outputId": "f2dc28c0-a9c2-4641-dc69-827c55fe48c3"
      },
      "source": [
        "# Regression with PPI Control\n",
        "x = block_scores_org[['Perc_Hispanic', 'Perc_Black', 'Perc_Native', 'Perc_Asian',\n",
        "               'Perc_Other', 'Perc_Multi', 'Perc_Pacific_Islander', 'PPI']]\n",
        "y = block_scores_org['HBI']\n",
        "model = sm.OLS(y,x, missing = 'drop',)\n",
        "results = model.fit(cov_type='cluster',\n",
        "                    cov_kwds={'groups': block_scores_org[['HBI','Perc_Hispanic', 'Perc_Black', 'Perc_Native', 'Perc_Asian',\n",
        "                    'Perc_Other', 'Perc_Multi', 'PPI','Perc_Pacific_Islander','utility_name']].dropna()['utility_name']})\n",
        "print(results.summary())"
      ],
      "execution_count": null,
      "outputs": [
        {
          "output_type": "stream",
          "text": [
            "                                 OLS Regression Results                                \n",
            "=======================================================================================\n",
            "Dep. Variable:                    HBI   R-squared (uncentered):                   0.756\n",
            "Model:                            OLS   Adj. R-squared (uncentered):              0.756\n",
            "Method:                 Least Squares   F-statistic:                              249.6\n",
            "Date:                Sat, 20 Feb 2021   Prob (F-statistic):                   1.88e-144\n",
            "Time:                        20:34:10   Log-Likelihood:                         -14059.\n",
            "No. Observations:                5739   AIC:                                  2.813e+04\n",
            "Df Residuals:                    5731   BIC:                                  2.819e+04\n",
            "Df Model:                           8                                                  \n",
            "Covariance Type:              cluster                                                  \n",
            "=========================================================================================\n",
            "                            coef    std err          z      P>|z|      [0.025      0.975]\n",
            "-----------------------------------------------------------------------------------------\n",
            "Perc_Hispanic            -0.0219      0.006     -3.427      0.001      -0.034      -0.009\n",
            "Perc_Black                0.0132      0.006      2.234      0.025       0.002       0.025\n",
            "Perc_Native               0.0322      0.013      2.464      0.014       0.007       0.058\n",
            "Perc_Asian               -0.0119      0.010     -1.223      0.221      -0.031       0.007\n",
            "Perc_Other                0.0223      0.040      0.556      0.578      -0.056       0.101\n",
            "Perc_Multi                0.0242      0.019      1.269      0.205      -0.013       0.062\n",
            "Perc_Pacific_Islander     0.0293      0.093      0.315      0.753      -0.153       0.212\n",
            "PPI                       0.1174      0.006     19.283      0.000       0.105       0.129\n",
            "==============================================================================\n",
            "Omnibus:                     3031.460   Durbin-Watson:                   1.378\n",
            "Prob(Omnibus):                  0.000   Jarque-Bera (JB):            40665.793\n",
            "Skew:                           2.219   Prob(JB):                         0.00\n",
            "Kurtosis:                      15.262   Cond. No.                         111.\n",
            "==============================================================================\n",
            "\n",
            "Warnings:\n",
            "[1] Standard Errors are robust to cluster correlation (cluster)\n"
          ],
          "name": "stdout"
        }
      ]
    },
    {
      "cell_type": "markdown",
      "metadata": {
        "id": "QP_Y1zKkGPz7"
      },
      "source": [
        "2. Model with Labor Hours Control"
      ]
    },
    {
      "cell_type": "code",
      "metadata": {
        "id": "iyjtSWv6Dy5G"
      },
      "source": [
        "x = block_scores_org[['Perc_Hispanic', 'Perc_Black', 'Perc_Native', 'Perc_Asian',\n",
        "               'Perc_Other', 'Perc_Multi', 'Perc_Pacific_Islander', 'LaborHrs']]\n",
        "y = block_scores_org['HBI']\n",
        "model = sm.OLS(y,x, missing = 'drop',)\n",
        "results = model.fit(cov_type='cluster',\n",
        "                    cov_kwds={'groups': block_scores_org[['HBI','Perc_Hispanic', 'Perc_Black', 'Perc_Native', 'Perc_Asian',\n",
        "                    'Perc_Other', 'Perc_Multi', 'LaborHrs','Perc_Pacific_Islander','utility_name']].dropna()['utility_name']})\n",
        "print(results.summary())"
      ],
      "execution_count": null,
      "outputs": []
    },
    {
      "cell_type": "markdown",
      "metadata": {
        "id": "F1Es1e6tGal9"
      },
      "source": [
        "3. Model with System Size Control"
      ]
    },
    {
      "cell_type": "code",
      "metadata": {
        "id": "xlOmsto_Em8Z"
      },
      "source": [
        "x = block_scores_org[['Perc_Hispanic', 'Perc_Black', 'Perc_Native', 'Perc_Asian',\n",
        "               'Perc_Other', 'Perc_Multi', 'Perc_Pacific_Islander', 'Population_Served_Count']]\n",
        "y = block_scores_org['HBI']\n",
        "model = sm.OLS(y,x, missing = 'drop',)\n",
        "results = model.fit(cov_type='cluster',\n",
        "                    cov_kwds={'groups': block_scores_org[['HBI','Perc_Hispanic', 'Perc_Black', 'Perc_Native', 'Perc_Asian',\n",
        "                    'Perc_Other', 'Perc_Multi', 'Perc_Pacific_Islander','Population_Served_Count','utility_name']].dropna()['utility_name']})\n",
        "print(results.summary())"
      ],
      "execution_count": null,
      "outputs": []
    },
    {
      "cell_type": "markdown",
      "metadata": {
        "id": "mWzRw8k8Gg_H"
      },
      "source": [
        "4. Model with Number of Service Connections Control"
      ]
    },
    {
      "cell_type": "code",
      "metadata": {
        "id": "wtPg_-fOFH5W"
      },
      "source": [
        "x = block_scores_org[['Perc_Hispanic', 'Perc_Black', 'Perc_Native', 'Perc_Asian',\n",
        "               'Perc_Other', 'Perc_Multi', 'Perc_Pacific_Islander', 'Service_Connections_Count']]\n",
        "y = block_scores_org['HBI']\n",
        "model = sm.OLS(y,x, missing = 'drop',)\n",
        "results = model.fit(cov_type='cluster',\n",
        "                    cov_kwds={'groups': block_scores_org[['HBI','Perc_Hispanic', 'Perc_Black', 'Perc_Native', 'Perc_Asian',\n",
        "                    'Perc_Other', 'Perc_Multi', 'Perc_Pacific_Islander','Service_Connections_Count','utility_name']].dropna()['utility_name']})\n",
        "print(results.summary())"
      ],
      "execution_count": null,
      "outputs": []
    },
    {
      "cell_type": "markdown",
      "metadata": {
        "id": "NV1-VW78G6SV"
      },
      "source": [
        "5. Model with Percent Rural Control"
      ]
    },
    {
      "cell_type": "code",
      "metadata": {
        "id": "u6dXTWrKGwqc"
      },
      "source": [
        "x = block_scores_org[['Perc_Hispanic', 'Perc_Black', 'Perc_Native', 'Perc_Asian',\n",
        "               'Perc_Other', 'Perc_Multi', 'Perc_Pacific_Islander', 'Perc_Rural']]\n",
        "y = block_scores_org['HBI']\n",
        "model = sm.OLS(y,x, missing = 'drop',)\n",
        "results = model.fit(cov_type='cluster',\n",
        "                    cov_kwds={'groups': block_scores_org[['HBI','Perc_Hispanic', 'Perc_Black', 'Perc_Native', 'Perc_Asian',\n",
        "                    'Perc_Other', 'Perc_Multi', 'Perc_Pacific_Islander','Perc_Rural','utility_name']].dropna()['utility_name']})\n",
        "print(results.summary())"
      ],
      "execution_count": null,
      "outputs": []
    },
    {
      "cell_type": "markdown",
      "metadata": {
        "id": "IiEUyyoBHGp8"
      },
      "source": [
        "6. Model with Percent Urban Control"
      ]
    },
    {
      "cell_type": "code",
      "metadata": {
        "id": "js4oNOxkG-EB"
      },
      "source": [
        "x = block_scores_org[['Perc_Hispanic', 'Perc_Black', 'Perc_Native', 'Perc_Asian',\n",
        "               'Perc_Other', 'Perc_Multi', 'Perc_Pacific_Islander', 'Perc_Urban']]\n",
        "y = block_scores_org['HBI']\n",
        "model = sm.OLS(y,x, missing = 'drop',)\n",
        "results = model.fit(cov_type='cluster',\n",
        "                    cov_kwds={'groups': block_scores_org[['HBI','Perc_Hispanic', 'Perc_Black', 'Perc_Native', 'Perc_Asian',\n",
        "                    'Perc_Other', 'Perc_Multi', 'Perc_Pacific_Islander','Perc_Urban','utility_name']].dropna()['utility_name']})\n",
        "print(results.summary())\n",
        "#fig = plt.figure(figsize=(12,8))\n",
        "#fig = sm.graphics.plot_regress_exog(results, 'Perc_Black', fig=fig)"
      ],
      "execution_count": null,
      "outputs": []
    },
    {
      "cell_type": "markdown",
      "metadata": {
        "id": "-fpLKInQS76v"
      },
      "source": [
        "# Scatterplots of Model Variables"
      ]
    },
    {
      "cell_type": "code",
      "metadata": {
        "id": "7f5QcQP7H489"
      },
      "source": [
        "fig = sm.graphics.plot_regress_exog(model, 'points', fig=fig)"
      ],
      "execution_count": null,
      "outputs": []
    },
    {
      "cell_type": "code",
      "metadata": {
        "id": "EmTI8tBWBtRT"
      },
      "source": [
        "# plot of original data\n",
        "ax1 = block_scores_org.plot.scatter(x='Perc_Black', \n",
        "                              y='HBI',\n",
        "                              #color = 'utility_name',\n",
        "                              colormap='viridis')\n",
        "# R^2 calculations\n",
        "##linreg = sp.stats.linregress(percent_pays_more, Black)\n",
        "                            \n",
        "ax1.set(title = 'Water Affordability for Blacks in North Carolina',\n",
        "        xlabel='% of Block Group that is Black',\n",
        "        ylabel='HBI')"
      ],
      "execution_count": null,
      "outputs": []
    },
    {
      "cell_type": "code",
      "metadata": {
        "id": "e0DlBSvvPted"
      },
      "source": [
        "# plot of original data\n",
        "ax1 = block_scores_org.plot.scatter(x='Perc_Hispanic', \n",
        "                              y='HBI',\n",
        "                              #color = 'utility_name',\n",
        "                              colormap='viridis')\n",
        "# R^2 calculations\n",
        "##linreg = sp.stats.linregress(percent_pays_more, Black)\n",
        "                            \n",
        "ax1.set(title = 'Water Affordability for Hispanic in North Carolina',\n",
        "        xlabel='% of Block Group that is Hispanic',\n",
        "        ylabel='HBI')"
      ],
      "execution_count": null,
      "outputs": []
    },
    {
      "cell_type": "code",
      "metadata": {
        "id": "i8kBGphXP4zj"
      },
      "source": [
        "# plot of original data\n",
        "ax1 = block_scores_org.plot.scatter(x='Perc_Multi', \n",
        "                              y='HBI',\n",
        "                              #color = 'utility_name',\n",
        "                              colormap='viridis')                           \n",
        "ax1.set(title = 'Water Affordability for Multiracial Individuals in North Carolina',\n",
        "        xlabel='% of Block Group that is Multiracial',\n",
        "        ylabel='HBI')"
      ],
      "execution_count": null,
      "outputs": []
    },
    {
      "cell_type": "code",
      "metadata": {
        "id": "XTV3uPc6QIIS"
      },
      "source": [
        "# plot of original data\n",
        "ax1 = block_scores_org.plot.scatter(x='Perc_Other', \n",
        "                              y='HBI',\n",
        "                              #color = 'utility_name',\n",
        "                              colormap='viridis')                           \n",
        "ax1.set(title = 'Water Affordability for Other Individuals in North Carolina',\n",
        "        xlabel='% of Block Group that is Other',\n",
        "        ylabel='HBI')"
      ],
      "execution_count": null,
      "outputs": []
    },
    {
      "cell_type": "code",
      "metadata": {
        "id": "LJTehu-cQQIq"
      },
      "source": [
        "ax1 = block_scores_org.plot.scatter(x='Perc_Native', \n",
        "                              y='HBI',\n",
        "                              #color = 'utility_name',\n",
        "                              colormap='viridis')                           \n",
        "ax1.set(title = 'Water Affordability for Indigenous Individuals in North Carolina',\n",
        "        xlabel='% of Block Group that is Indigenous',\n",
        "        ylabel='HBI')"
      ],
      "execution_count": null,
      "outputs": []
    },
    {
      "cell_type": "code",
      "metadata": {
        "id": "Q41tnL9zRIOL"
      },
      "source": [
        "ax1 = block_scores_org.plot.scatter(x='Perc_Asian', \n",
        "                              y='HBI',\n",
        "                              #color = 'utility_name',\n",
        "                              colormap='viridis')                           \n",
        "ax1.set(title = 'Water Affordability for Asian Individuals in North Carolina',\n",
        "        xlabel='% of Block Group that is Asian',\n",
        "        ylabel='HBI')"
      ],
      "execution_count": null,
      "outputs": []
    },
    {
      "cell_type": "code",
      "metadata": {
        "id": "6IpkajAxReZg"
      },
      "source": [
        "ax1 = block_scores_org.plot.scatter(x='Perc_Pacific_Islander', \n",
        "                              y='HBI',\n",
        "                              #color = 'utility_name',\n",
        "                              colormap='viridis')                           \n",
        "ax1.set(title = 'Water Affordability for Pacific Islander Individuals in North Carolina',\n",
        "        xlabel='% of Block Group that is Pacific Islander',\n",
        "        ylabel='HBI')"
      ],
      "execution_count": null,
      "outputs": []
    },
    {
      "cell_type": "markdown",
      "metadata": {
        "id": "Ep1vj9O-TLqo"
      },
      "source": [
        "Scatterplots of Control Variables"
      ]
    },
    {
      "cell_type": "code",
      "metadata": {
        "id": "q8ynToDpTRSx"
      },
      "source": [
        "ax1 = block_scores_org.plot.scatter(x='PPI', \n",
        "                              y='HBI',\n",
        "                              #color = 'utility_name',\n",
        "                              colormap='viridis')                           \n",
        "ax1.set(title = 'Water Affordability in North Carolina',\n",
        "        xlabel= 'PPI',\n",
        "        ylabel='HBI')"
      ],
      "execution_count": null,
      "outputs": []
    },
    {
      "cell_type": "code",
      "metadata": {
        "id": "iymAxZEjThoO"
      },
      "source": [
        "ax1 = block_scores_org.plot.scatter(x='Population_Served_Count', \n",
        "                              y='HBI',\n",
        "                              #color = 'utility_name',\n",
        "                              colormap='viridis')                           \n",
        "ax1.set(title = 'Water Affordability in North Carolina by System Size',\n",
        "        xlabel= 'System Size',\n",
        "        ylabel='HBI')"
      ],
      "execution_count": null,
      "outputs": []
    },
    {
      "cell_type": "code",
      "metadata": {
        "id": "kLRaU8nvUEVt"
      },
      "source": [
        "ax1 = block_scores_org.plot.scatter(x='Service_Connections_Count', \n",
        "                              y='HBI',\n",
        "                              #color = 'utility_name',\n",
        "                              colormap='viridis')                           \n",
        "ax1.set(title = 'Water Affordability in North Carolina by Number of Connections',\n",
        "        xlabel= 'Number of Connections',\n",
        "        ylabel='HBI')"
      ],
      "execution_count": null,
      "outputs": []
    },
    {
      "cell_type": "code",
      "metadata": {
        "id": "JluguxeLUlR1"
      },
      "source": [
        "ax1 = block_scores_org.plot.scatter(x='LaborHrs', \n",
        "                              y='HBI',\n",
        "                              #color = 'utility_name',\n",
        "                              colormap='viridis')                           \n",
        "ax1.set(title = 'Water Affordability in North Carolina by Number of Hours Worked',\n",
        "        xlabel= 'Hours Worked',\n",
        "        ylabel='HBI')"
      ],
      "execution_count": null,
      "outputs": []
    },
    {
      "cell_type": "code",
      "metadata": {
        "id": "UvRN58txU1Dx"
      },
      "source": [
        "ax1 = block_scores_org.plot.scatter(x='Perc_Urban', \n",
        "                              y='HBI',\n",
        "                              #color = 'utility_name',\n",
        "                              colormap='viridis')                           \n",
        "ax1.set(title = 'Water Affordability in North Carolina by Percent Urban',\n",
        "        xlabel= 'Percent Urban',\n",
        "        ylabel='HBI')"
      ],
      "execution_count": null,
      "outputs": []
    },
    {
      "cell_type": "code",
      "metadata": {
        "id": "Tp4o5jB0VCFW"
      },
      "source": [
        "ax1 = block_scores_org.plot.scatter(x='Perc_Rural', \n",
        "                              y='HBI',\n",
        "                              #color = 'utility_name',\n",
        "                              colormap='viridis')                           \n",
        "ax1.set(title = 'Water Affordability in North Carolina by Percent Rural',\n",
        "        xlabel= 'Percent Rural',\n",
        "        ylabel='HBI')"
      ],
      "execution_count": null,
      "outputs": []
    },
    {
      "cell_type": "markdown",
      "metadata": {
        "id": "k6fQnuUriDwR"
      },
      "source": [
        "# Boxplots of Model Variables"
      ]
    },
    {
      "cell_type": "code",
      "metadata": {
        "id": "eINXoXP0h_oi"
      },
      "source": [
        "ax1 = sn.violinplot(x='Perc_Black', y='HBI', data = block_scores_org)\n",
        "                                                      \n",
        "ax1.set(title = 'Water Affordability in North Carolina by Percent Black',\n",
        "        xlabel= 'Percent Black',\n",
        "        ylabel='HBI')"
      ],
      "execution_count": null,
      "outputs": []
    },
    {
      "cell_type": "code",
      "metadata": {
        "id": "rabaA0DRkm81"
      },
      "source": [
        "ax = sn.boxplot(data=block_scores_org, orient=\"h\", palette=\"Set1\")"
      ],
      "execution_count": null,
      "outputs": []
    },
    {
      "cell_type": "code",
      "metadata": {
        "id": "v0b0xIHTirLV"
      },
      "source": [
        "ax1 = block_scores_org.plot.box(x='HBI', \n",
        "        \n",
        "                              #color = 'utility_name',\n",
        "                              colormap='viridis')                           \n",
        "ax1.set(title = 'Water Affordability in North Carolina by Percent Hispanic',\n",
        "        xlabel= 'Percent Hispanic',\n",
        "        ylabel='HBI')"
      ],
      "execution_count": null,
      "outputs": []
    },
    {
      "cell_type": "code",
      "metadata": {
        "id": "pLt9e8nZi414"
      },
      "source": [
        "ax1 = block_scores_org.plot.box(x='Perc_Multi', \n",
        "                              y='HBI',\n",
        "                              #color = 'utility_name',\n",
        "                              colormap='viridis')                           \n",
        "ax1.set(title = 'Water Affordability in North Carolina by Percent Multiracial',\n",
        "        xlabel= 'Percent Multiracial',\n",
        "        ylabel='HBI')"
      ],
      "execution_count": null,
      "outputs": []
    },
    {
      "cell_type": "code",
      "metadata": {
        "id": "bep1aUb1jOUK"
      },
      "source": [
        "ax1 = block_scores_org.plot.box(x='Perc_Asian', \n",
        "                              y='HBI',\n",
        "                              #color = 'utility_name',\n",
        "                              colormap='viridis')                           \n",
        "ax1.set(title = 'Water Affordability in North Carolina by Percent Asian',\n",
        "        xlabel= 'Percent Asian',\n",
        "        ylabel='HBI')"
      ],
      "execution_count": null,
      "outputs": []
    },
    {
      "cell_type": "code",
      "metadata": {
        "id": "jmB4vMz_BwDv"
      },
      "source": [
        "# plot of orginal data with trendline\n",
        "original_plot = sn.lmplot(x='Perc_Hispanic', \n",
        "                           y= 'HBI', \n",
        "                           data = block_scores_org, \n",
        "                           # col = blue,\n",
        "                           #palette = 'colorblind',\n",
        "                           fit_reg = True,\n",
        "                           legend = False,\n",
        "                           height = 5,\n",
        "                           aspect = 1.5)\n",
        "plt.title('Water Affordability for Hispanic in North Carolina')\n",
        "plt.xlabel('% of Block Group that is Hispanic')\n",
        "plt.ylabel('% income spent on Basic Water Services')"
      ],
      "execution_count": null,
      "outputs": []
    },
    {
      "cell_type": "code",
      "metadata": {
        "id": "d-IK5h3OB2Yf"
      },
      "source": [
        "# plot of log data with trendline\n",
        "original_plot = sn.regplot(x='HBI', \n",
        "                           y='Perc_Black', \n",
        "                           data = block_scores_org) \n",
        "                          "
      ],
      "execution_count": null,
      "outputs": []
    },
    {
      "cell_type": "code",
      "metadata": {
        "id": "vuFaaBamB8_-"
      },
      "source": [
        "# plot of Log data Black v. Percent pays move\n",
        "ax1 = Block_Log.plot.scatter(x='Perc_Hispanic','Perc_Black', 'Perc_Native', 'Perc_Asian',\n",
        "               'Perc_Other', 'Perc_Multi', 'Perc_Pacific_Islander', \n",
        "                              y='HBI',\n",
        "                              #color = 'utility_name',\n",
        "                              colormap='viridis')\n",
        "ax1.set(title = 'Water Affordability for Blacks in North Carolina',\n",
        "        xlabel='% of Block Group that spends at least 20% of income on water utility',\n",
        "        ylabel='% of Block Group that is Black')\n",
        "    #'R2: ' + str(r2_score(y_test, y_predicted)))\n",
        "    #xlabel='% of Utility Population that spends at least 20% of income on water utility',\n",
        "    #ylabel='% of Utility that is Black'"
      ],
      "execution_count": null,
      "outputs": []
    },
    {
      "cell_type": "code",
      "metadata": {
        "id": "fuTqmVn8C6m9"
      },
      "source": [
        "# plot of Log data Hispanic v. Percent pays move\n",
        "ax1 = twenty.plot.scatter(x='percent_pays_more', \n",
        "                              y='Hispanic',\n",
        "                              #color = 'utility_name',\n",
        "                              colormap='viridis')\n",
        "ax1.set(title = 'Water Affordability for Hispanics in North Carolina',\n",
        "        xlabel='% of Utility Population that spends at least 20% of income on water utility',\n",
        "        ylabel='% of Utility that is Hispanic')\n",
        "#ax1.set_title('R2: ' + str(r2_score(y_test, y_predicted)))\n",
        "#xlabel='% of Utility Population that spends at least 20% of income on water utility',\n",
        "#ylabel='% of Utility that is Hispanic')"
      ],
      "execution_count": null,
      "outputs": []
    },
    {
      "cell_type": "code",
      "metadata": {
        "id": "ZT549mYjDZjx"
      },
      "source": [
        "# plot of Log data White v. Percent pays move\n",
        "ax1 = twenty.plot.scatter(x='percent_pays_more', \n",
        "                              y='White',\n",
        "                              #color = 'utility_name',\n",
        "                              colormap='viridis')\n",
        "ax1.set(title = 'Water Affordability for Whites in North Carolina',\n",
        "        xlabel='% of Utility Population that spends at least 20% of income on water utility',\n",
        "        ylabel='% of Utility that is White')"
      ],
      "execution_count": null,
      "outputs": []
    },
    {
      "cell_type": "code",
      "metadata": {
        "id": "6x0HZadnDdAI"
      },
      "source": [
        "# plot of Log data Not Hispanic v. Percent pays move\n",
        "ax1 = twenty.plot.scatter(x='percent_pays_more', \n",
        "                              y='NotHispanic',\n",
        "                              #color = 'utility_name',\n",
        "                              colormap='viridis')\n",
        "ax1.set(title = 'Water Affordability for Not Hispanics in North Carolina',\n",
        "        xlabel='% of Utility Population that spends at least 20% of income on water utility',\n",
        "        ylabel='% of Utility that is Not Hispanic')"
      ],
      "execution_count": null,
      "outputs": []
    },
    {
      "cell_type": "code",
      "metadata": {
        "id": "6DATL1fHDf-n"
      },
      "source": [
        "# plot of Log data Native v. Percent pays move\n",
        "ax1 = twenty.plot.scatter(x='percent_pays_more', \n",
        "                              y='Native',\n",
        "                              #color = 'utility_name',\n",
        "                              colormap='viridis')\n",
        "ax1.set(title = 'Water Affordability for Natives in North Carolina',\n",
        "        xlabel='% of Utility Population that spends at least 20% of income on water utility',\n",
        "        ylabel='% of Utility that is Native')"
      ],
      "execution_count": null,
      "outputs": []
    }
  ]
}